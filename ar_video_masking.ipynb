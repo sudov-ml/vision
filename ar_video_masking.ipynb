{
 "cells": [
  {
   "cell_type": "code",
   "execution_count": 1,
   "id": "sixth-legislation",
   "metadata": {},
   "outputs": [],
   "source": [
    "import numpy as np\n",
    "import cv2"
   ]
  },
  {
   "cell_type": "code",
   "execution_count": 2,
   "id": "occupied-syria",
   "metadata": {},
   "outputs": [],
   "source": [
    "cap=cv2.VideoCapture(0) #camera feed\n",
    "target=cv2.imread('1.jpeg') #image target\n",
    "target=cv2.resize(target,(726,512)) #reshaping\n",
    "vid=cv2.VideoCapture('1.mp4') # video"
   ]
  },
  {
   "cell_type": "code",
   "execution_count": null,
   "id": "acting-silicon",
   "metadata": {},
   "outputs": [],
   "source": [
    "cv2.imshow('target',target)\n",
    "cv2.waitKey()\n",
    "cv2.destroyAllWindows()"
   ]
  },
  {
   "cell_type": "code",
   "execution_count": 3,
   "id": "aquatic-arlington",
   "metadata": {},
   "outputs": [],
   "source": [
    "ht,wt,ct=target.shape #getting target dimensions"
   ]
  },
  {
   "cell_type": "code",
   "execution_count": 4,
   "id": "packed-logic",
   "metadata": {},
   "outputs": [],
   "source": [
    "success,frame=vid.read() #getting frame of video\n",
    "imgvid=cv2.resize(frame,(ht,wt)) #resizing frame to image dimension"
   ]
  },
  {
   "cell_type": "code",
   "execution_count": 5,
   "id": "damaged-collaboration",
   "metadata": {},
   "outputs": [],
   "source": [
    "cv2.imshow('image video',imgvid)\n",
    "cv2.waitKey()\n",
    "cv2.destroyAllWindows()"
   ]
  },
  {
   "cell_type": "markdown",
   "id": "acting-agriculture",
   "metadata": {},
   "source": [
    "**ORB Detection**"
   ]
  },
  {
   "cell_type": "code",
   "execution_count": 6,
   "id": "effective-madonna",
   "metadata": {},
   "outputs": [],
   "source": [
    "orb=cv2.ORB_create(nfeatures=1000) #feature detector to detect atmost 1000"
   ]
  },
  {
   "cell_type": "code",
   "execution_count": 19,
   "id": "fuzzy-volunteer",
   "metadata": {},
   "outputs": [],
   "source": [
    "#Key points and the Descriptors for the Target Image.\n",
    "key,des=orb.detectAndCompute(target,None)"
   ]
  },
  {
   "cell_type": "code",
   "execution_count": 8,
   "id": "related-climb",
   "metadata": {
    "tags": []
   },
   "outputs": [],
   "source": [
    "cv2.imshow('detected features',cv2.drawKeypoints(target,kps,None, flags=cv2.DRAW_MATCHES_FLAGS_DRAW_RICH_KEYPOINTS))\n",
    "cv2.waitKey()\n",
    "cv2.destroyAllWindows()"
   ]
  },
  {
   "cell_type": "markdown",
   "id": "corporate-transcript",
   "metadata": {},
   "source": [
    "**SURF Detection**"
   ]
  },
  {
   "cell_type": "code",
   "execution_count": 7,
   "id": "abstract-leeds",
   "metadata": {},
   "outputs": [],
   "source": [
    "surf=cv2.xfeatures2d.SURF_create()\n",
    "key,des=surf.detectAndCompute(target,None)"
   ]
  },
  {
   "cell_type": "code",
   "execution_count": 6,
   "id": "administrative-angel",
   "metadata": {},
   "outputs": [],
   "source": [
    "cv2.imshow('surf keypoints',cv2.drawKeypoints(target,key,None))\n",
    "cv2.waitKey()\n",
    "cv2.destroyAllWindows()"
   ]
  },
  {
   "cell_type": "markdown",
   "id": "greatest-stationery",
   "metadata": {},
   "source": [
    "**SIFT Detection**"
   ]
  },
  {
   "cell_type": "code",
   "execution_count": 8,
   "id": "governmental-confidentiality",
   "metadata": {},
   "outputs": [],
   "source": [
    "sift=cv2.xfeatures2d.SIFT_create()\n",
    "key,des=sift.detectAndCompute(target,None)"
   ]
  },
  {
   "cell_type": "code",
   "execution_count": 28,
   "id": "surprised-prison",
   "metadata": {},
   "outputs": [],
   "source": [
    "cv2.imshow('sift keypoints',cv2.drawKeypoints(target,key,None))\n",
    "cv2.waitKey()\n",
    "cv2.destroyAllWindows()"
   ]
  },
  {
   "cell_type": "markdown",
   "id": "internal-madagascar",
   "metadata": {},
   "source": [
    "### Feature Matching"
   ]
  },
  {
   "cell_type": "code",
   "execution_count": 10,
   "id": "affected-sarah",
   "metadata": {},
   "outputs": [],
   "source": [
    "algo=\"sift\"\n",
    "method={\"orb\":orb,\"surf\":surf,\"sift\":sift}\n",
    "kp1,des=method[algo].detectAndCompute(target,None)\n",
    "while True:\n",
    "#     matrix=[]\n",
    "    success,frame=cap.read()\n",
    "    kp2,des2=method[algo].detectAndCompute(frame,None)\n",
    "    bf = cv2.BFMatcher()\n",
    "    matches = bf.knnMatch(des, des2, k=2)\n",
    "    good = []\n",
    "    for m, n in matches:\n",
    "        if m.distance < 0.75 * n.distance:\n",
    "            good.append(m)\n",
    "#     print(len(good))\n",
    "    thresholds={\"orb\":12,\"surf\":200,\"sift\":140}\n",
    "    #homography : to find relevant relations btw src and target points\n",
    "    if len(good)>=thresholds[algo]:\n",
    "        srcPts=np.float32([kp1[m.queryIdx].pt for m in good]).reshape(-1,1,2)\n",
    "        desPts=np.float32([kp2[m.trainIdx].pt for m in good]).reshape(-1,1,2)\n",
    "        matrix,mask=cv2.findHomography(srcPts,desPts,cv2.RANSAC,5.0)\n",
    "#     print(matrix)\n",
    "        pts=np.float32([[0,0],[0,ht],[wt,ht],[wt,0]]).reshape(-1,1,2)\n",
    "        dst=cv2.perspectiveTransform(pts,matrix) #perspective transform to get the bounding box\n",
    "        bbox=cv2.polylines(frame,[np.int32(dst)],True,(0,255,0),3)\n",
    "    else:\n",
    "        bbox=frame\n",
    "    features=cv2.drawMatches(target,kp1,frame,kp2,good,None,flags=2)\n",
    "    \n",
    "    cv2.imshow('feature match',features)\n",
    "    cv2.imshow('bounding box',bbox)\n",
    "    if cv2.waitKey(1) & 0xFF == ord('q'):\n",
    "        break\n",
    "cap.release()\n",
    "cv2.destroyAllWindows()"
   ]
  },
  {
   "cell_type": "code",
   "execution_count": null,
   "id": "split-probe",
   "metadata": {},
   "outputs": [],
   "source": []
  }
 ],
 "metadata": {
  "kernelspec": {
   "display_name": "Python 3",
   "language": "python",
   "name": "python3"
  },
  "language_info": {
   "codemirror_mode": {
    "name": "ipython",
    "version": 3
   },
   "file_extension": ".py",
   "mimetype": "text/x-python",
   "name": "python",
   "nbconvert_exporter": "python",
   "pygments_lexer": "ipython3",
   "version": "3.7.4"
  }
 },
 "nbformat": 4,
 "nbformat_minor": 5
}
